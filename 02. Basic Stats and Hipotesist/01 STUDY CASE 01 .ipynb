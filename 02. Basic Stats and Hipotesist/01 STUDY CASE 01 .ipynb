{
 "cells": [
  {
   "cell_type": "markdown",
   "id": "80048cc6-ec1f-4f8d-9563-74f0f08ba069",
   "metadata": {},
   "source": [
    "# **Pertemuan 2 - Studi Kasus Kombinatorika**\n",
    "\n",
    "Introduction to Probability Course - Sekolah Data - Pacmann Academy"
   ]
  },
  {
   "cell_type": "markdown",
   "id": "b5acf7f3-7811-4732-9363-ba5ac681302c",
   "metadata": {
    "jp-MarkdownHeadingCollapsed": true
   },
   "source": [
    "--------\n",
    "## **Case 1**\n",
    "\n",
    "Anda adalah sebuat data analyst di sebuah cofee chain terkemuka bernama Kopi Janji Joni. \n",
    "\n",
    "Tim Product dari Kopi Janji Joni ingin membuat sebuah product baru dan memerlukan eksperiman untuk menguji apakah product baru tersebut sesuai dengan budget.\n",
    "\n",
    "Untuk product baru ini, tim product menguji beberapa ingridients untuk digabungkan. \n",
    "\n",
    "- Kopi Long Black\n",
    "- Creamy Foam\n",
    "- Gula 200G\n",
    "- Caramel\n",
    "- Salt\n",
    "- Boba\n",
    "-------"
   ]
  },
  {
   "cell_type": "markdown",
   "id": "57ff3945-7dac-49b1-9008-ba301aed40a3",
   "metadata": {},
   "source": [
    "\n",
    "\n",
    "**Soal 1**:<br>\n",
    "Jika kita ingin mengkombinasikan 4 bahan tersebut, berapa banyak eksperimen yang dilakukan?\n",
    "\n",
    "\n",
    "**Soal 2**:<br>\n",
    "Jika hanya tiga bahan yang dibutuhkan, berapa banyak eksperimen yang dilakukan. kemudian hitunglah berapa cost untuk percobaan kedua ini jika setiap eksperimen membutuhkan cost Rp. 150.000\n",
    "\n",
    "**Soal 3**:<br>\n",
    "Berdasarkan riset, Boba dan Kopi merupakan bahan yang sangat disukai sehingga di setiap eksperimen kedua bahan tersebut harus disertakan.\n",
    "\n",
    "Berapa eksperimen yang diperlukan jika Boba dan Kopi selalu diikutkan dalam setiap eksperimen dan hitunglah cost dari product development ini jika, setiap eksperimen memerlukan biaya Rp. 125.000"
   ]
  },
  {
   "cell_type": "markdown",
   "id": "0f760967-9f07-4088-9121-705ea976f567",
   "metadata": {},
   "source": [
    "-------\n",
    "**Answer**"
   ]
  },
  {
   "cell_type": "markdown",
   "id": "893cdd61-383d-4de4-aea9-48dc7223e889",
   "metadata": {
    "jp-MarkdownHeadingCollapsed": true
   },
   "source": [
    "---\n",
    "## **Soal 1**\n",
    "Jika kita ingin mengkombinasikan 4 bahan tersebut, berapa banyak eksperimen yang dilakukan?"
   ]
  },
  {
   "cell_type": "markdown",
   "id": "724dc651-6d95-4b63-adc4-2aabad0085e1",
   "metadata": {},
   "source": [
    "Kita gunakan library berikut untuk mensimulasikan kombinasi"
   ]
  },
  {
   "cell_type": "code",
   "execution_count": 24,
   "id": "1e11382f-8791-467b-bd44-d723438d3c56",
   "metadata": {},
   "outputs": [],
   "source": [
    "# Jalankan\n",
    "from itertools import combinations"
   ]
  },
  {
   "cell_type": "code",
   "execution_count": 26,
   "id": "788178de-e2e0-48c8-b69d-16edc75ac284",
   "metadata": {},
   "outputs": [],
   "source": [
    "# Masukkan list bahan yang ingin dikombinasikan\n",
    "list_bahan = {'Kopi','Foam','Sugar','Caramel','Salt','Boba'}"
   ]
  },
  {
   "cell_type": "code",
   "execution_count": 28,
   "id": "ca2bacac-def0-41c2-bb7d-b6cbe7677daa",
   "metadata": {},
   "outputs": [],
   "source": [
    "# Masukkan jumlah bahan yang ingin dikombinasikan\n",
    "jumlah_kombinasi = 4"
   ]
  },
  {
   "cell_type": "code",
   "execution_count": 38,
   "id": "54158d7a-0384-4a4e-9491-6892dba46f55",
   "metadata": {},
   "outputs": [],
   "source": [
    "comb = combinations(list_bahan,jumlah_kombinasi)"
   ]
  },
  {
   "cell_type": "code",
   "execution_count": 40,
   "id": "c4175457-0d02-40f3-bef8-02f3fc147478",
   "metadata": {},
   "outputs": [
    {
     "name": "stdout",
     "output_type": "stream",
     "text": [
      "('Kopi', 'Caramel', 'Salt', 'Foam')\n",
      "('Kopi', 'Caramel', 'Salt', 'Boba')\n",
      "('Kopi', 'Caramel', 'Salt', 'Sugar')\n",
      "('Kopi', 'Caramel', 'Foam', 'Boba')\n",
      "('Kopi', 'Caramel', 'Foam', 'Sugar')\n",
      "('Kopi', 'Caramel', 'Boba', 'Sugar')\n",
      "('Kopi', 'Salt', 'Foam', 'Boba')\n",
      "('Kopi', 'Salt', 'Foam', 'Sugar')\n",
      "('Kopi', 'Salt', 'Boba', 'Sugar')\n",
      "('Kopi', 'Foam', 'Boba', 'Sugar')\n",
      "('Caramel', 'Salt', 'Foam', 'Boba')\n",
      "('Caramel', 'Salt', 'Foam', 'Sugar')\n",
      "('Caramel', 'Salt', 'Boba', 'Sugar')\n",
      "('Caramel', 'Foam', 'Boba', 'Sugar')\n",
      "('Salt', 'Foam', 'Boba', 'Sugar')\n"
     ]
    }
   ],
   "source": [
    "# Menampilkan hasil kombinasi \n",
    "# code ini tidak perlu dihafal\n",
    "for i in list(comb):\n",
    "    print(i)"
   ]
  },
  {
   "cell_type": "markdown",
   "id": "dd43dab2-f207-48cc-9f02-e08e5753f784",
   "metadata": {},
   "source": [
    "Terdapat 15 kombinasi bahan yang dapat diuji"
   ]
  },
  {
   "cell_type": "markdown",
   "id": "8279a9d9-7482-4a10-a07e-85663dbad437",
   "metadata": {
    "jp-MarkdownHeadingCollapsed": true
   },
   "source": [
    "-------\n",
    "## **Soal 2**\n",
    "Jika hanya tiga bahan yang dibutuhkan, berapa banyak eksperimen yang dilakukan. kemudian hitunglah berapa cost untuk percobaan kedua ini jika setiap eksperimen membutuhkan cost Rp. 150.000"
   ]
  },
  {
   "cell_type": "code",
   "execution_count": 44,
   "id": "2af3147c-1624-445d-9e09-59b9fd79b294",
   "metadata": {},
   "outputs": [],
   "source": [
    "# Masukkan list bahan disini\n",
    "list_bahan = {'Kopi','Foam','Sugar','Caramel','Salt','Boba'}"
   ]
  },
  {
   "cell_type": "code",
   "execution_count": 46,
   "id": "27731c1b-f62d-443a-bd9b-5214e809b25c",
   "metadata": {},
   "outputs": [],
   "source": [
    "# Masukkan jumlah bahan yang ingin dikombinasikan\n",
    "jumlah_kombinasi = 3"
   ]
  },
  {
   "cell_type": "code",
   "execution_count": 50,
   "id": "25c1e964-f267-46bb-9977-4ac56c73490d",
   "metadata": {},
   "outputs": [],
   "source": [
    "comb = combinations(list_bahan,jumlah_kombinasi)"
   ]
  },
  {
   "cell_type": "code",
   "execution_count": 52,
   "id": "e2d05626-5e58-4fb0-b8bd-7e1311560bb6",
   "metadata": {},
   "outputs": [
    {
     "name": "stdout",
     "output_type": "stream",
     "text": [
      "('Kopi', 'Caramel', 'Salt')\n",
      "('Kopi', 'Caramel', 'Foam')\n",
      "('Kopi', 'Caramel', 'Boba')\n",
      "('Kopi', 'Caramel', 'Sugar')\n",
      "('Kopi', 'Salt', 'Foam')\n",
      "('Kopi', 'Salt', 'Boba')\n",
      "('Kopi', 'Salt', 'Sugar')\n",
      "('Kopi', 'Foam', 'Boba')\n",
      "('Kopi', 'Foam', 'Sugar')\n",
      "('Kopi', 'Boba', 'Sugar')\n",
      "('Caramel', 'Salt', 'Foam')\n",
      "('Caramel', 'Salt', 'Boba')\n",
      "('Caramel', 'Salt', 'Sugar')\n",
      "('Caramel', 'Foam', 'Boba')\n",
      "('Caramel', 'Foam', 'Sugar')\n",
      "('Caramel', 'Boba', 'Sugar')\n",
      "('Salt', 'Foam', 'Boba')\n",
      "('Salt', 'Foam', 'Sugar')\n",
      "('Salt', 'Boba', 'Sugar')\n",
      "('Foam', 'Boba', 'Sugar')\n"
     ]
    }
   ],
   "source": [
    "# Menampilkan hasil kombinasi \n",
    "# code ini tidak perlu dihafal\n",
    "for i in list(comb):\n",
    "    print(i)"
   ]
  },
  {
   "cell_type": "code",
   "execution_count": 56,
   "id": "a98a475c-ed28-481c-ba4b-f05cbd1a4b9d",
   "metadata": {},
   "outputs": [],
   "source": [
    "# set nilai n_eksperimen sebagai variabel tempat menyimpan banyak eksperimen.\n",
    "n_eksperimen = 20\n",
    "\n",
    "cost_per_eksperimen = 150000\n",
    "total_cost = n_eksperimen * cost_per_eksperimen"
   ]
  },
  {
   "cell_type": "code",
   "execution_count": 58,
   "id": "696f2191-4fac-4143-aa8f-f8b9f1b86f96",
   "metadata": {},
   "outputs": [
    {
     "data": {
      "text/plain": [
       "3000000"
      ]
     },
     "execution_count": 58,
     "metadata": {},
     "output_type": "execute_result"
    }
   ],
   "source": [
    "total_cost"
   ]
  },
  {
   "cell_type": "code",
   "execution_count": 60,
   "id": "ec16784c-3f62-42a3-8560-c7f4cbfe9746",
   "metadata": {},
   "outputs": [
    {
     "name": "stdout",
     "output_type": "stream",
     "text": [
      "---\n",
      "Cost yang diperlukan untuk melakukan 20 eksperimen adalah Rp 3000000\n"
     ]
    }
   ],
   "source": [
    "print(\"---\")\n",
    "print(f\"Cost yang diperlukan untuk melakukan {n_eksperimen} eksperimen adalah Rp {total_cost}\")"
   ]
  },
  {
   "cell_type": "markdown",
   "id": "e00b57f5-0489-4ade-a386-0216f85b7c70",
   "metadata": {
    "jp-MarkdownHeadingCollapsed": true
   },
   "source": [
    "--------\n",
    "## **Soal 3**\n",
    "Berdasarkan riset, Boba dan Kopi merupakan bahan yang sangat disukai sehingga di setiap eksperimen kedua bahan tersebut harus disertakan.\n",
    "\n",
    "Berapa eksperimen yang diperlukan jika Boba dan Kopi selalu diikutkan dalam setiap eksperimen dan hitunglah cost dari product development ini jika, setiap eksperimen memerlukan biaya Rp. 125.000"
   ]
  },
  {
   "cell_type": "code",
   "execution_count": 69,
   "id": "4abf6332-f233-4ed9-b87a-2ded3b6d1393",
   "metadata": {},
   "outputs": [],
   "source": [
    "# List bahan-bahan yang ada\n",
    "list_bahan = {'Kopi','Foam','Sugar','Caramel','Salt','Boba'}"
   ]
  },
  {
   "cell_type": "code",
   "execution_count": 71,
   "id": "1e70d60b-ddc3-4717-831e-e1503eb881ff",
   "metadata": {},
   "outputs": [],
   "source": [
    "# List bahan wajib yang harus ada dalam tiap eksperimen\n",
    "bahan_wajib = {'Kopi', 'Boba'}"
   ]
  },
  {
   "cell_type": "code",
   "execution_count": 73,
   "id": "08060bc1-80ed-48e5-9892-dde8ff59bebe",
   "metadata": {},
   "outputs": [],
   "source": [
    "# Masukkan jumlah bahan yang ingin dikombinasikan\n",
    "jumlah_kombinasi = 4"
   ]
  },
  {
   "cell_type": "code",
   "execution_count": 75,
   "id": "90d19cd0-c33d-4f4a-bfe9-16d4bc0a5eea",
   "metadata": {},
   "outputs": [],
   "source": [
    "comb = combinations(list_bahan,jumlah_kombinasi)"
   ]
  },
  {
   "cell_type": "code",
   "execution_count": 77,
   "id": "5b189fab-81a1-4c72-b0b7-4865779952e1",
   "metadata": {},
   "outputs": [
    {
     "name": "stdout",
     "output_type": "stream",
     "text": [
      "('Kopi', 'Caramel', 'Salt', 'Foam')\n",
      "('Kopi', 'Caramel', 'Salt', 'Boba')\n",
      "('Kopi', 'Caramel', 'Salt', 'Sugar')\n",
      "('Kopi', 'Caramel', 'Foam', 'Boba')\n",
      "('Kopi', 'Caramel', 'Foam', 'Sugar')\n",
      "('Kopi', 'Caramel', 'Boba', 'Sugar')\n",
      "('Kopi', 'Salt', 'Foam', 'Boba')\n",
      "('Kopi', 'Salt', 'Foam', 'Sugar')\n",
      "('Kopi', 'Salt', 'Boba', 'Sugar')\n",
      "('Kopi', 'Foam', 'Boba', 'Sugar')\n",
      "('Caramel', 'Salt', 'Foam', 'Boba')\n",
      "('Caramel', 'Salt', 'Foam', 'Sugar')\n",
      "('Caramel', 'Salt', 'Boba', 'Sugar')\n",
      "('Caramel', 'Foam', 'Boba', 'Sugar')\n",
      "('Salt', 'Foam', 'Boba', 'Sugar')\n"
     ]
    }
   ],
   "source": [
    "# Menampilkan hasil kombinasi \n",
    "# code ini tidak perlu dihafal\n",
    "for i in list(comb):\n",
    "    print (i) "
   ]
  },
  {
   "cell_type": "code",
   "execution_count": 79,
   "id": "6f630ecd-b917-4a5c-94f1-249c0c157ce9",
   "metadata": {},
   "outputs": [],
   "source": [
    "# set nilai n_eksperimen sebagai variabel tempat menyimpan banyak eksperimen dimana mengandung bahan wajib.\n",
    "n_eksperimen = 6"
   ]
  },
  {
   "cell_type": "code",
   "execution_count": 83,
   "id": "229e2eac-d03d-457e-99e3-652402dcd2e3",
   "metadata": {},
   "outputs": [],
   "source": [
    "# Hitung total cost yang dibutuhkan\n",
    "cost_per_eksperimen = 125000\n",
    "total_cost = n_eksperimen * cost_per_eksperimen"
   ]
  },
  {
   "cell_type": "code",
   "execution_count": 85,
   "id": "7b6fb88d-4181-4ac1-9437-c4727296654b",
   "metadata": {},
   "outputs": [
    {
     "data": {
      "text/plain": [
       "750000"
      ]
     },
     "execution_count": 85,
     "metadata": {},
     "output_type": "execute_result"
    }
   ],
   "source": [
    "total_cost"
   ]
  },
  {
   "cell_type": "code",
   "execution_count": 87,
   "id": "68716b0c-a4e3-4b85-a338-d777aaba5c16",
   "metadata": {},
   "outputs": [
    {
     "name": "stdout",
     "output_type": "stream",
     "text": [
      "---\n",
      "Cost yang diperlukan untuk melakukan 6 eksperimen adalah Rp 750000\n"
     ]
    }
   ],
   "source": [
    "print(\"---\")\n",
    "print(f\"Cost yang diperlukan untuk melakukan {n_eksperimen} eksperimen adalah Rp {total_cost}\")"
   ]
  }
 ],
 "metadata": {
  "kernelspec": {
   "display_name": "Python [conda env:base] *",
   "language": "python",
   "name": "conda-base-py"
  },
  "language_info": {
   "codemirror_mode": {
    "name": "ipython",
    "version": 3
   },
   "file_extension": ".py",
   "mimetype": "text/x-python",
   "name": "python",
   "nbconvert_exporter": "python",
   "pygments_lexer": "ipython3",
   "version": "3.12.4"
  }
 },
 "nbformat": 4,
 "nbformat_minor": 5
}
