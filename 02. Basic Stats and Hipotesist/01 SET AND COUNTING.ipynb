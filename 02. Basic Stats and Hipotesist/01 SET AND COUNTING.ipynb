{
 "cells": [
  {
   "cell_type": "markdown",
   "id": "68a42404-4485-43e0-aba7-2be19e59f408",
   "metadata": {},
   "source": [
    "# **Pertemuan 2 - Set and Counting**\n",
    "\n",
    "Bismilah, ini adalah materi selanjutnya yang saya pelajari dari Pacmann.. \n",
    "\n",
    "Introduction to Probability Course - Sekolah Data - Pacmann Academy"
   ]
  },
  {
   "cell_type": "markdown",
   "id": "3f8cbdbe-6032-43db-bb7f-abb7345c6a50",
   "metadata": {},
   "source": [
    "---\n",
    "Sebagai pengantar materi mengenai probabilitas, perlu dipahami konsep mengenai himpunan. Himpunan merupakan elemen dasar yang sering dijumpai pada teori probabilitas."
   ]
  },
  {
   "cell_type": "markdown",
   "id": "8ff12d27-f536-48fb-8dca-9a9f6cb0a074",
   "metadata": {
    "jp-MarkdownHeadingCollapsed": true
   },
   "source": [
    "## **Himpunan / Set**\n",
    "\n",
    "Himpunan dapat diartikan sebagai sekumpulan objek, contoh:\n",
    "* Himpunan Hewan = {anjing, kucing, elang, kakap,...}\n",
    "* Himpunan Varian Covid = {alpha, beta, delta, omicron}\n",
    "\n",
    "<center><img src=\"https://sekolahdata-assets.s3.ap-southeast-1.amazonaws.com/notebook-images/mds-probability/live_02_01.PNG\" alt=\"Drawing\" style=\"width: 200px;\"/></center>"
   ]
  },
  {
   "cell_type": "markdown",
   "id": "4518d352-f015-46d6-97a2-5c8f2dfb8285",
   "metadata": {},
   "source": [
    "---\n",
    "### **Notasi Himpunan**\n",
    "\n",
    "* Penulisan himpunan digunakan kurung kurawal\n",
    "\n",
    "<center>$A = \\{1,2,3,4,5,6,7,\\ldots\\}$</center>\n",
    "\n",
    "* Himpunan dapat tidak memiliki isi.\n",
    "* Dinamakan himpunan kosong\n",
    "\n",
    "<center> $B = \\{\\}$ </center>\n",
    "<center> $B = \\emptyset$ </center>"
   ]
  },
  {
   "cell_type": "code",
   "execution_count": 5,
   "id": "53a63dd3-fcd0-4cd7-984e-f68699fd7a2a",
   "metadata": {},
   "outputs": [
    {
     "data": {
      "text/plain": [
       "set"
      ]
     },
     "execution_count": 5,
     "metadata": {},
     "output_type": "execute_result"
    }
   ],
   "source": [
    "# Himpunan dengan isi 1 s.d. 7\n",
    "A = {1,2,3,4,5,6,7}\n",
    "type(A)"
   ]
  },
  {
   "cell_type": "code",
   "execution_count": 7,
   "id": "0f86a5fe-3975-419b-b9d5-e25e380c6076",
   "metadata": {},
   "outputs": [
    {
     "data": {
      "text/plain": [
       "set"
      ]
     },
     "execution_count": 7,
     "metadata": {},
     "output_type": "execute_result"
    }
   ],
   "source": [
    "# Himpunan kosong\n",
    "B = set()\n",
    "type(B)"
   ]
  },
  {
   "cell_type": "markdown",
   "id": "c1f5d807-215c-4ef4-935c-f73492cd0be2",
   "metadata": {},
   "source": [
    "Set dalam Python:"
   ]
  },
  {
   "cell_type": "code",
   "execution_count": 11,
   "id": "4ba93076-ae3c-4a07-aedf-9cf890ac7ce4",
   "metadata": {},
   "outputs": [],
   "source": [
    "hewan = {'kucing','sapi','lele', 'ulat', 'ayam'}"
   ]
  },
  {
   "cell_type": "markdown",
   "id": "cd3311f1-1ad4-490a-b619-6b099350cedf",
   "metadata": {},
   "source": [
    "Elemen dalam sebuah set tidak bisa duplikat"
   ]
  },
  {
   "cell_type": "code",
   "execution_count": 14,
   "id": "6442d542-6f35-40fe-8a07-734b57275d2f",
   "metadata": {},
   "outputs": [
    {
     "data": {
      "text/plain": [
       "{'ayam', 'kucing', 'lele', 'sapi', 'ulat'}"
      ]
     },
     "execution_count": 14,
     "metadata": {},
     "output_type": "execute_result"
    }
   ],
   "source": [
    "hewan = {'kucing', 'kucing','sapi','lele', 'ulat', 'ayam'}\n",
    "hewan"
   ]
  },
  {
   "cell_type": "markdown",
   "id": "829bdc7f-a1f3-4a84-bae4-c1c7af62033f",
   "metadata": {},
   "source": [
    "Set tidak memperhatikan urutan"
   ]
  },
  {
   "cell_type": "code",
   "execution_count": 17,
   "id": "47245c3e-184a-46e5-a99d-1ab30611da29",
   "metadata": {},
   "outputs": [
    {
     "data": {
      "text/plain": [
       "{'ayam', 'kucing', 'lele', 'sapi', 'ulat'}"
      ]
     },
     "execution_count": 17,
     "metadata": {},
     "output_type": "execute_result"
    }
   ],
   "source": [
    "hewan = {'ulat', 'ayam', 'kucing','sapi','lele'}\n",
    "hewan"
   ]
  },
  {
   "cell_type": "markdown",
   "id": "092f4593-0655-49ac-a892-b2bfacd8a932",
   "metadata": {},
   "source": [
    "---\n",
    "### **Elemen pada Himpunan**\n",
    "\n",
    "* Misal terdapat sebuah himpunan nama hari\n",
    "\n",
    "$$\n",
    "\\text{Hari} = \\{\\text{Senin, Selasa, Rabu, Kamis, Jumat, Sabtu, Minggu}\\}\n",
    "$$\n",
    "\n",
    "* Hari `Senin` merupakan anggota dari set `Hari`. Secara matematis dapat ditulis\n",
    "\n",
    "$$\n",
    "\\text{Senin} \\in \\text{Hari}\n",
    "$$\n",
    "\n",
    "* Namun `Januari` bukan merupakan anggota dari set `Hari`.\n",
    "\n",
    "$$\n",
    "\\text{Januari} \\notin \\text{Hari}\n",
    "$$"
   ]
  },
  {
   "cell_type": "code",
   "execution_count": 20,
   "id": "a30efadb-808a-4d76-a809-567e41d601da",
   "metadata": {},
   "outputs": [],
   "source": [
    "Hari = {'Senin','Selasa','Rabu','Kamis','Jumat','Sabtu','Minggu'}"
   ]
  },
  {
   "cell_type": "code",
   "execution_count": 22,
   "id": "b4904f70-ec4a-4f48-a04b-eb68ccd6901d",
   "metadata": {},
   "outputs": [
    {
     "data": {
      "text/plain": [
       "True"
      ]
     },
     "execution_count": 22,
     "metadata": {},
     "output_type": "execute_result"
    }
   ],
   "source": [
    "'Senin' in Hari"
   ]
  },
  {
   "cell_type": "code",
   "execution_count": 28,
   "id": "41c298e6-181f-4d8a-8966-e99b31b82c4c",
   "metadata": {},
   "outputs": [
    {
     "data": {
      "text/plain": [
       "False"
      ]
     },
     "execution_count": 28,
     "metadata": {},
     "output_type": "execute_result"
    }
   ],
   "source": [
    "'Januari' in Hari"
   ]
  },
  {
   "cell_type": "markdown",
   "id": "05737154-7e4d-456e-a92c-a52fd257967d",
   "metadata": {},
   "source": [
    "---\n",
    "### **Menambah Elemen Baru**\n",
    "\n",
    "Untuk menambah elemen pada set kita dapat menggunakan perintah `add()`"
   ]
  },
  {
   "cell_type": "code",
   "execution_count": 31,
   "id": "c1dfeb49-7264-4741-81a0-3634f91f6a4d",
   "metadata": {},
   "outputs": [
    {
     "data": {
      "text/plain": [
       "{1, 2, 3, 5}"
      ]
     },
     "execution_count": 31,
     "metadata": {},
     "output_type": "execute_result"
    }
   ],
   "source": [
    "basic_set = {1,2,3}\n",
    "basic_set.add(5)\n",
    "basic_set"
   ]
  },
  {
   "cell_type": "markdown",
   "id": "21918fe6-d2e8-4e29-8c4c-aaa66e1a497b",
   "metadata": {},
   "source": [
    "---\n",
    "### **Menghapus elemen**\n",
    "\n",
    "Untuk mengurangi elemen pada list, ada 2 perintah yang dapat kita gunakan:\n",
    "\n",
    "* `remove()`"
   ]
  },
  {
   "cell_type": "code",
   "execution_count": 35,
   "id": "71018594-6d1f-4442-83cc-57a7ae633fbd",
   "metadata": {},
   "outputs": [
    {
     "data": {
      "text/plain": [
       "{1, 2, 3}"
      ]
     },
     "execution_count": 35,
     "metadata": {},
     "output_type": "execute_result"
    }
   ],
   "source": [
    "basic_set.remove(5)\n",
    "basic_set"
   ]
  },
  {
   "cell_type": "markdown",
   "id": "1758885b-690e-4a06-aa9a-51747dc46abb",
   "metadata": {},
   "source": [
    "---\n",
    "### **Menghitung Jumlah Elemen**"
   ]
  },
  {
   "cell_type": "markdown",
   "id": "aa686ab8-eac0-4eed-86c9-99ef79424a91",
   "metadata": {},
   "source": [
    "Notasi Jumlah Elemen:\n",
    "\n",
    "$$\n",
    "\\text{Hari} = \\{\\text{Senin, Selasa, Rabu, Kamis, Jumat, Sabtu, Minggu}\\}\n",
    "$$\n",
    "\n",
    "$$\n",
    "| \\text{Hari} | = 7\n",
    "$$"
   ]
  },
  {
   "cell_type": "code",
   "execution_count": 43,
   "id": "4b4094ce-07b7-4409-979e-0eef89ead529",
   "metadata": {},
   "outputs": [
    {
     "data": {
      "text/plain": [
       "{'Jumat', 'Kamis', 'Minggu', 'Rabu', 'Sabtu', 'Selasa', 'Senin'}"
      ]
     },
     "execution_count": 43,
     "metadata": {},
     "output_type": "execute_result"
    }
   ],
   "source": [
    "Hari"
   ]
  },
  {
   "cell_type": "code",
   "execution_count": 45,
   "id": "d6f8d1fb-ef36-4a4a-8a6d-9edb76067f53",
   "metadata": {},
   "outputs": [
    {
     "data": {
      "text/plain": [
       "7"
      ]
     },
     "execution_count": 45,
     "metadata": {},
     "output_type": "execute_result"
    }
   ],
   "source": [
    "len(Hari)"
   ]
  },
  {
   "cell_type": "code",
   "execution_count": 49,
   "id": "4ce77f56-9ef5-45a8-a667-291025e52f67",
   "metadata": {},
   "outputs": [
    {
     "data": {
      "text/plain": [
       "{'ayam', 'kucing', 'lele', 'sapi', 'ulat'}"
      ]
     },
     "execution_count": 49,
     "metadata": {},
     "output_type": "execute_result"
    }
   ],
   "source": [
    "hewan"
   ]
  },
  {
   "cell_type": "code",
   "execution_count": 51,
   "id": "f1ff6ade-61da-4a2e-9ad3-b16119f4c2a9",
   "metadata": {},
   "outputs": [
    {
     "data": {
      "text/plain": [
       "5"
      ]
     },
     "execution_count": 51,
     "metadata": {},
     "output_type": "execute_result"
    }
   ],
   "source": [
    "len(hewan)"
   ]
  },
  {
   "cell_type": "markdown",
   "id": "a123466c-f9f8-4dce-a8ec-5cf359b44514",
   "metadata": {},
   "source": [
    "---\n",
    "### **Diagram Venn**\n",
    "\n",
    "Diagram yang digunakan untuk menunjukkan relasi antar himpunan/set.\n",
    "\n",
    "Contoh:\n",
    "\n",
    "<center><img src=\"https://sekolahdata-assets.s3.ap-southeast-1.amazonaws.com/notebook-images/mds-probability/live_02_02.PNG\" alt=\"Drawing\" style=\"width: 500px;\"/></center>"
   ]
  },
  {
   "cell_type": "markdown",
   "id": "e08851c7-32c0-4161-9ff0-6c8deee6d86c",
   "metadata": {
    "jp-MarkdownHeadingCollapsed": true
   },
   "source": [
    "---\n",
    "## **Operasi Himpunan / Set**"
   ]
  },
  {
   "cell_type": "markdown",
   "id": "bfd109b9-bb60-4b76-a83d-4a4fa1a65345",
   "metadata": {},
   "source": [
    "### **Intersection**\n",
    "\n",
    "Fungsi `intesection()` digunakan untuk menghasilkan set baru yang berisi elemen yang sama dari kedua set\n",
    "\n",
    "<center><img src=\"https://sekolahdata-assets.s3.ap-southeast-1.amazonaws.com/notebook-images/mds-probability/live_02_03.PNG\" alt=\"Drawing\" style=\"width: 500px;\"/></center>"
   ]
  },
  {
   "cell_type": "code",
   "execution_count": 58,
   "id": "2ee43fa9-571f-45db-91f7-4f414fff079b",
   "metadata": {},
   "outputs": [],
   "source": [
    "x_set = {1,2,3,4}\n",
    "y_set = {3,4,5,6,7}"
   ]
  },
  {
   "cell_type": "markdown",
   "id": "d68f03ec-2393-4bcb-ad34-3853f156dd82",
   "metadata": {},
   "source": [
    "$ X = \\{1,2,3,4\\} $\n",
    "\n",
    "$ Y = \\{3,4,5,6,7\\} $\n",
    "\n",
    "$X \\cap Y = ?$"
   ]
  },
  {
   "cell_type": "code",
   "execution_count": 61,
   "id": "f1bd041c-c3bf-42e0-8dc8-f1c0925e8019",
   "metadata": {},
   "outputs": [
    {
     "data": {
      "text/plain": [
       "{3, 4}"
      ]
     },
     "execution_count": 61,
     "metadata": {},
     "output_type": "execute_result"
    }
   ],
   "source": [
    "x_set.intersection(y_set)"
   ]
  },
  {
   "cell_type": "code",
   "execution_count": 63,
   "id": "0600b467-29bd-42ba-89d1-32b88ee7116f",
   "metadata": {},
   "outputs": [
    {
     "data": {
      "text/plain": [
       "{3, 4}"
      ]
     },
     "execution_count": 63,
     "metadata": {},
     "output_type": "execute_result"
    }
   ],
   "source": [
    "x_set&y_set"
   ]
  },
  {
   "cell_type": "markdown",
   "id": "7608acb2-aaa9-4504-bd4f-8bff501dafc5",
   "metadata": {},
   "source": [
    "### **Union**\n",
    "\n",
    "Fungsi `union()` digunakan untuk menghasilkan set yang merupakan menggabungkan dari kedua set\n",
    "\n",
    "<center><img src=\"https://sekolahdata-assets.s3.ap-southeast-1.amazonaws.com/notebook-images/mds-probability/live_02_04.PNG\" alt=\"Drawing\" style=\"width: 500px;\"/></center>"
   ]
  },
  {
   "cell_type": "code",
   "execution_count": 66,
   "id": "3fac2cb3-8347-4bf0-8092-7da547264b8f",
   "metadata": {},
   "outputs": [],
   "source": [
    "x_set = {1,2,3,4}\n",
    "y_set = {3,4,5,6,7}"
   ]
  },
  {
   "cell_type": "code",
   "execution_count": 68,
   "id": "4e1f10b4-f008-4a3d-b541-52ae3c063c63",
   "metadata": {},
   "outputs": [
    {
     "data": {
      "text/plain": [
       "{1, 2, 3, 4, 5, 6, 7}"
      ]
     },
     "execution_count": 68,
     "metadata": {},
     "output_type": "execute_result"
    }
   ],
   "source": [
    "x_set.union(y_set)"
   ]
  },
  {
   "cell_type": "code",
   "execution_count": 71,
   "id": "0ef88ff7-1136-4fb7-ba40-5d564d775bae",
   "metadata": {},
   "outputs": [
    {
     "data": {
      "text/plain": [
       "{1, 2, 3, 4, 5, 6, 7}"
      ]
     },
     "execution_count": 71,
     "metadata": {},
     "output_type": "execute_result"
    }
   ],
   "source": [
    "x_set|y_set"
   ]
  },
  {
   "cell_type": "markdown",
   "id": "ea319d02-2e08-48cc-a5a3-aa12a0f5edb0",
   "metadata": {},
   "source": [
    "### **Difference / Komplemen**\n",
    "\n",
    "Fungsi `diffence()` digunakan untuk menghasilkan set baru yang terdiri dari elemen yang tidak ada pada set lain\n",
    "\n",
    "<center><img src=\"https://sekolahdata-assets.s3.ap-southeast-1.amazonaws.com/notebook-images/mds-probability/live_02_05.jpg\" alt=\"Drawing\" style=\"width: 300px;\"/></center>"
   ]
  },
  {
   "cell_type": "code",
   "execution_count": 74,
   "id": "8dd402aa-7f80-4a4c-adcb-468cd5974e42",
   "metadata": {},
   "outputs": [],
   "source": [
    "x_set = {1,2,3,4}\n",
    "y_set = {3,4,5,6,7}"
   ]
  },
  {
   "cell_type": "markdown",
   "id": "5c09c5bb-bf1b-4055-8eba-c43f9640c4eb",
   "metadata": {},
   "source": [
    "$ X - Y = ?$"
   ]
  },
  {
   "cell_type": "code",
   "execution_count": 77,
   "id": "4fdb0129-e030-420a-9630-857e3e323715",
   "metadata": {},
   "outputs": [
    {
     "data": {
      "text/plain": [
       "{1, 2}"
      ]
     },
     "execution_count": 77,
     "metadata": {},
     "output_type": "execute_result"
    }
   ],
   "source": [
    "x_set.difference(y_set)"
   ]
  },
  {
   "cell_type": "markdown",
   "id": "ce1fe32f-ca22-4002-8675-8c93d961b3cf",
   "metadata": {},
   "source": [
    "### **Subset & Superset**\n",
    "\n",
    "* Jika memiliki dua set: misal A dan B\n",
    "* Set B adalah subset dari A jika semua elemen B ada di A\n",
    "\n",
    "<center> $A = \\{1,2,3,4,5,6,7\\}$ </center>\n",
    "<center> $B = \\{1,3,5,7\\}$ </center>\n",
    "<center> $B \\subset A$ </center>\n",
    "<center> $A \\supset B$ </center>\n",
    "\n",
    "<br>\n",
    "<br>\n",
    "<center><img src=\"https://sekolahdata-assets.s3.ap-southeast-1.amazonaws.com/notebook-images/mds-probability/live_02_06.PNG\" alt=\"Drawing\" style=\"width: 400px;\"/></center>"
   ]
  },
  {
   "cell_type": "markdown",
   "id": "b9b3cfda-85c9-4318-a872-65ea287245ac",
   "metadata": {},
   "source": [
    "* `issubset()` mengecek apakah merupakan subset dari set lain\n",
    "* `isdisjoint()` mengecek apakah kedua set tidak memiliki elemen yang sama\n",
    "* `issuperset()` mengecek apakah set mengandung semua elemen set lain"
   ]
  },
  {
   "cell_type": "code",
   "execution_count": 83,
   "id": "bfeff0a2-9df8-4d93-ace9-6ee4c5295261",
   "metadata": {},
   "outputs": [],
   "source": [
    "A = {1,2,3,4,5,6,7}\n",
    "B = {1,3,5}\n",
    "C = {8,9,10}"
   ]
  },
  {
   "cell_type": "markdown",
   "id": "36ccc24d-bafb-4749-b5d8-f1b16d8877b4",
   "metadata": {},
   "source": [
    "is $B \\subset A$?"
   ]
  },
  {
   "cell_type": "code",
   "execution_count": 86,
   "id": "c3c5176d-9038-41b3-8f43-35295f8c1c17",
   "metadata": {},
   "outputs": [
    {
     "data": {
      "text/plain": [
       "True"
      ]
     },
     "execution_count": 86,
     "metadata": {},
     "output_type": "execute_result"
    }
   ],
   "source": [
    "B.issubset(A)"
   ]
  },
  {
   "cell_type": "markdown",
   "id": "651f7020-b6ea-424c-b588-99b14d692449",
   "metadata": {},
   "source": [
    "is $A \\cap C = \\{\\}$?"
   ]
  },
  {
   "cell_type": "code",
   "execution_count": 89,
   "id": "bc47e85b-ad05-421d-bcd5-8385a3ca2bba",
   "metadata": {},
   "outputs": [
    {
     "data": {
      "text/plain": [
       "False"
      ]
     },
     "execution_count": 89,
     "metadata": {},
     "output_type": "execute_result"
    }
   ],
   "source": [
    "A.isdisjoint(B)"
   ]
  },
  {
   "cell_type": "markdown",
   "id": "5bfd3d56-56af-4444-9d5e-a322a8c57cb3",
   "metadata": {},
   "source": [
    "is $A \\supset B = \\{\\}$?"
   ]
  },
  {
   "cell_type": "code",
   "execution_count": 92,
   "id": "ffa34a6d-6df9-48d3-90d2-c12e16fb1f93",
   "metadata": {},
   "outputs": [
    {
     "data": {
      "text/plain": [
       "True"
      ]
     },
     "execution_count": 92,
     "metadata": {},
     "output_type": "execute_result"
    }
   ],
   "source": [
    "A.issuperset(B)"
   ]
  },
  {
   "cell_type": "markdown",
   "id": "892f2b02-def8-4885-ac86-75a2e58e40ef",
   "metadata": {
    "jp-MarkdownHeadingCollapsed": true
   },
   "source": [
    "---\n",
    "## **CASE**: Diberikan\n",
    "\n",
    "$$S = \\{-1, 0, 1, 2, 3,4,5,20,90\\}$$\n",
    "\n",
    "$$A = \\{1, 2, 3,4,5\\}$$\n",
    "\n",
    "$$B = \\{0, 2, -1, 5,7\\}$$\n",
    "\n",
    "$$C = \\{20,90\\}$$"
   ]
  },
  {
   "cell_type": "markdown",
   "id": "dda38b88-3fde-4a35-8f92-c819396089ee",
   "metadata": {},
   "source": [
    "### Maka temukan\n",
    "\n",
    "1. $|A|, |B|, |C|$ and $|S|$\n",
    "\n",
    "\n",
    "2. $𝐴∩𝐵, 𝐴∩C, 𝐴∩D, 𝐴∩S, 𝐴∪𝐵, 𝐴∪𝐶, 𝐴∪𝐵∪𝐶, 𝐴−𝐶,𝐴−𝐵, 𝐴 ∆ 𝐵$\n",
    "\n",
    "\n",
    "3. $|𝐴∩𝐵|, |𝐴∪𝐵∪𝐶|$\n",
    "\n",
    "\n",
    "4. $𝐴^𝑐, 𝐵^𝑐 , (𝐴∪𝐵)^𝑐,   𝐴^𝑐∩𝐵^𝑐 $\n",
    "\n",
    "\n",
    "5. Apakah $𝐴,𝐵, C, D ⊆𝑆 $ ?"
   ]
  },
  {
   "cell_type": "code",
   "execution_count": 103,
   "id": "e3ef7a08-bed2-4f1c-8e97-22920c0f1bfc",
   "metadata": {
    "scrolled": true
   },
   "outputs": [
    {
     "name": "stdout",
     "output_type": "stream",
     "text": [
      "Requirement already satisfied: matplotlib-venn in c:\\users\\g149_fad_6\\anaconda3\\lib\\site-packages (1.1.2)\n",
      "Requirement already satisfied: matplotlib in c:\\users\\g149_fad_6\\anaconda3\\lib\\site-packages (from matplotlib-venn) (3.8.4)\n",
      "Requirement already satisfied: numpy in c:\\users\\g149_fad_6\\anaconda3\\lib\\site-packages (from matplotlib-venn) (1.26.4)\n",
      "Requirement already satisfied: scipy in c:\\users\\g149_fad_6\\anaconda3\\lib\\site-packages (from matplotlib-venn) (1.13.1)\n",
      "Requirement already satisfied: contourpy>=1.0.1 in c:\\users\\g149_fad_6\\anaconda3\\lib\\site-packages (from matplotlib->matplotlib-venn) (1.2.0)\n",
      "Requirement already satisfied: cycler>=0.10 in c:\\users\\g149_fad_6\\anaconda3\\lib\\site-packages (from matplotlib->matplotlib-venn) (0.11.0)\n",
      "Requirement already satisfied: fonttools>=4.22.0 in c:\\users\\g149_fad_6\\anaconda3\\lib\\site-packages (from matplotlib->matplotlib-venn) (4.51.0)\n",
      "Requirement already satisfied: kiwisolver>=1.3.1 in c:\\users\\g149_fad_6\\anaconda3\\lib\\site-packages (from matplotlib->matplotlib-venn) (1.4.4)\n",
      "Requirement already satisfied: packaging>=20.0 in c:\\users\\g149_fad_6\\anaconda3\\lib\\site-packages (from matplotlib->matplotlib-venn) (23.2)\n",
      "Requirement already satisfied: pillow>=8 in c:\\users\\g149_fad_6\\anaconda3\\lib\\site-packages (from matplotlib->matplotlib-venn) (10.3.0)\n",
      "Requirement already satisfied: pyparsing>=2.3.1 in c:\\users\\g149_fad_6\\anaconda3\\lib\\site-packages (from matplotlib->matplotlib-venn) (3.0.9)\n",
      "Requirement already satisfied: python-dateutil>=2.7 in c:\\users\\g149_fad_6\\anaconda3\\lib\\site-packages (from matplotlib->matplotlib-venn) (2.9.0.post0)\n",
      "Requirement already satisfied: six>=1.5 in c:\\users\\g149_fad_6\\anaconda3\\lib\\site-packages (from python-dateutil>=2.7->matplotlib->matplotlib-venn) (1.16.0)\n"
     ]
    }
   ],
   "source": [
    "!pip install matplotlib-venn"
   ]
  },
  {
   "cell_type": "code",
   "execution_count": 105,
   "id": "a25bef5d-4799-4900-99ed-b0b3d886c286",
   "metadata": {},
   "outputs": [],
   "source": [
    "import matplotlib.pyplot as plt\n",
    "import matplotlib_venn as venn\n",
    "\n",
    "S = {-1, 0, 1, 2, 3,4,5,7, 20,90}\n",
    "A = {1, 2, 3,4,5}\n",
    "B = {0, 2, -1, 5,7}\n",
    "C = {20,90}\n",
    "D = {100}"
   ]
  },
  {
   "cell_type": "code",
   "execution_count": 107,
   "id": "f756e94f-44a5-4be6-ba5c-a0d4cb977268",
   "metadata": {},
   "outputs": [
    {
     "data": {
      "image/png": "[encoded data removed]",
      "text/plain": [
       "<Figure size 640x480 with 1 Axes>"
      ]
     },
     "metadata": {},
     "output_type": "display_data"
    }
   ],
   "source": [
    "# Diagram Venn untuk Himpunan diatas\n",
    "venn.venn3([A, B, C], set_labels=('A','B', 'C'))\n",
    "plt.show()"
   ]
  },
  {
   "cell_type": "markdown",
   "id": "75cb6b6e-1edd-450b-968a-c6198813d7d9",
   "metadata": {},
   "source": [
    "1. $|A|$"
   ]
  },
  {
   "cell_type": "code",
   "execution_count": 110,
   "id": "d8d4a861-e4de-4848-87dc-28df94783959",
   "metadata": {},
   "outputs": [
    {
     "data": {
      "text/plain": [
       "5"
      ]
     },
     "execution_count": 110,
     "metadata": {},
     "output_type": "execute_result"
    }
   ],
   "source": [
    "len(A)"
   ]
  },
  {
   "cell_type": "markdown",
   "id": "40d197a6-cbfb-4ec3-bb7e-4d47e2c9add7",
   "metadata": {},
   "source": [
    "$|S|$"
   ]
  },
  {
   "cell_type": "code",
   "execution_count": 113,
   "id": "f7a8036c-a5f5-4f0d-922e-bf87d9e134be",
   "metadata": {},
   "outputs": [
    {
     "data": {
      "text/plain": [
       "10"
      ]
     },
     "execution_count": 113,
     "metadata": {},
     "output_type": "execute_result"
    }
   ],
   "source": [
    "len(S)"
   ]
  },
  {
   "cell_type": "markdown",
   "id": "7decc4cb-3b01-40f8-a510-ddcc959240ed",
   "metadata": {},
   "source": [
    "---\n",
    "2. $𝐴∩𝐵, 𝐴∩C, 𝐴∩D, 𝐴∩S, 𝐴∪𝐵, 𝐴∪𝐶, 𝐴∪𝐵∪𝐶, 𝐴−𝐶,𝐴−𝐵$"
   ]
  },
  {
   "cell_type": "markdown",
   "id": "951f3b24-e685-4543-9ae7-a0f14599fc6b",
   "metadata": {},
   "source": [
    "$ 𝐴∩𝐵 =  \\{2, 5\\} $ <br>\n",
    "$𝐴∩C =  set()  $ <br>\n",
    "$𝐴∩D =  set()  $ <br>\n",
    "$𝐴∩S =  \\{1, 2, 3, 4, 5\\}  $ <br>\n",
    "$𝐴∪B =  \\{0, 1, 2, 3, 4, 5, 7, -1\\}  $ <br>\n",
    "$𝐴∪C =  \\{1, 2, 3, 4, 5, 20, 90\\}  $ <br>\n",
    "$𝐴∪B∪C =  \\{0, 1, 2, 3, 4, 5, 7, 20, 90, -1\\}  = S  $ <br>\n",
    "$𝐴-C =  \\{1, 2, 3, 4, 5\\} $ <br>\n",
    "$𝐴-B =  \\{1, 3, 4\\}$"
   ]
  },
  {
   "cell_type": "code",
   "execution_count": 120,
   "id": "39bab0f5-8094-4bef-8abc-26a21ecaf5c7",
   "metadata": {},
   "outputs": [
    {
     "name": "stdout",
     "output_type": "stream",
     "text": [
      "𝐴∩𝐵 =  {2, 5}\n",
      "𝐴∩C =  set()\n",
      "𝐴∩D =  set()\n",
      "𝐴∩S =  {1, 2, 3, 4, 5}\n",
      "𝐴∪B =  {0, 1, 2, 3, 4, 5, 7, -1}\n",
      "𝐴∪C =  {1, 2, 3, 4, 5, 20, 90}\n",
      "𝐴∪B∪C =  {0, 1, 2, 3, 4, 5, 7, 20, 90, -1}  = S\n",
      "𝐴-C =  {1, 2, 3, 4, 5}\n",
      "𝐴-B =  {1, 3, 4}\n",
      "𝐴∆B =  {0, 1, 3, 4, 7, -1}\n"
     ]
    }
   ],
   "source": [
    "print(\"𝐴∩𝐵 = \", A.intersection(B))\n",
    "print(\"𝐴∩C = \", A&C)        # & = intersection\n",
    "print(\"𝐴∩D = \", A.intersection(D))\n",
    "print(\"𝐴∩S = \", A.intersection(S))\n",
    "print(\"𝐴∪B = \", A.union(B))\n",
    "print(\"𝐴∪C = \", A|C)       # | = union\n",
    "print(\"𝐴∪B∪C = \", A|B|C, \" = S\")\n",
    "print(\"𝐴-C = \", A-C)       \n",
    "print(\"𝐴-B = \", A-B)       \n",
    "print(\"𝐴∆B = \", A^B)       "
   ]
  },
  {
   "cell_type": "markdown",
   "id": "521a64fa-a425-4977-91f3-9f9488335def",
   "metadata": {},
   "source": [
    "---\n",
    "3. $|𝐴∩𝐵|, |𝐴∪𝐵∪𝐶|$"
   ]
  },
  {
   "cell_type": "code",
   "execution_count": 124,
   "id": "8e77297a-a691-403d-86a9-cb23ac9bd6a1",
   "metadata": {},
   "outputs": [
    {
     "name": "stdout",
     "output_type": "stream",
     "text": [
      "|𝐴∩𝐵| =  2\n",
      "|𝐴∪𝐵∪𝐶| =  10\n"
     ]
    }
   ],
   "source": [
    "print(\"|𝐴∩𝐵| = \", len(A&B))\n",
    "print(\"|𝐴∪𝐵∪𝐶| = \", len(A|B|C))"
   ]
  },
  {
   "cell_type": "markdown",
   "id": "686f626d-137d-4ad1-b6de-373791ead46b",
   "metadata": {},
   "source": [
    "---\n",
    "4. $𝐴^𝑐, 𝐵^𝑐 , (𝐴∪𝐵)^𝑐,   𝐴^𝑐∩𝐵^𝑐 $"
   ]
  },
  {
   "cell_type": "code",
   "execution_count": 127,
   "id": "a26c6751-85ac-41d2-8597-0b3049a45a55",
   "metadata": {},
   "outputs": [
    {
     "name": "stdout",
     "output_type": "stream",
     "text": [
      "complement of A =  5\n",
      "complement of B =  5\n",
      "complement of 𝐴∪𝐵 =  2\n",
      "(complement of 𝐴)  ∩ (complement of B) =  2\n"
     ]
    }
   ],
   "source": [
    "print(\"complement of A = \", len(S-A))\n",
    "print(\"complement of B = \", len(S-B))\n",
    "print(\"complement of 𝐴∪𝐵 = \", len(S-(𝐴|𝐵)))\n",
    "print(\"(complement of 𝐴)  ∩ (complement of B) = \", len((S-A)&(S-B)))"
   ]
  },
  {
   "cell_type": "markdown",
   "id": "393048a8-7337-45c3-9f7b-01946c235d92",
   "metadata": {},
   "source": [
    "---\n",
    "5. Apakah $𝐴,𝐵, C, D ⊆𝑆 $ ?"
   ]
  },
  {
   "cell_type": "code",
   "execution_count": 129,
   "id": "30051546-7a73-4bfe-94a1-51eca6c00fab",
   "metadata": {},
   "outputs": [
    {
     "name": "stdout",
     "output_type": "stream",
     "text": [
      "Is 𝐴⊆S :  True\n",
      "Is S⊇A :  True\n",
      "Is B⊆S :  True\n",
      "Is S⊇B :  True\n",
      "Is D⊆S :  False\n",
      "Is S⊇D :  False\n"
     ]
    }
   ],
   "source": [
    "print(\"Is 𝐴⊆S : \", A.issubset(S))\n",
    "print(\"Is S⊇A : \", S.issuperset(A))\n",
    "print(\"Is B⊆S : \", B.issubset(S))\n",
    "print(\"Is S⊇B : \", S.issuperset(B))\n",
    "print(\"Is D⊆S : \", D.issubset(S))\n",
    "print(\"Is S⊇D : \", S.issuperset(D))"
   ]
  },
  {
   "cell_type": "code",
   "execution_count": null,
   "id": "c5dff6e0-dcac-495e-b2bd-6fe4f7856c64",
   "metadata": {},
   "outputs": [],
   "source": []
  }
 ],
 "metadata": {
  "kernelspec": {
   "display_name": "Python [conda env:base] *",
   "language": "python",
   "name": "conda-base-py"
  },
  "language_info": {
   "codemirror_mode": {
    "name": "ipython",
    "version": 3
   },
   "file_extension": ".py",
   "mimetype": "text/x-python",
   "name": "python",
   "nbconvert_exporter": "python",
   "pygments_lexer": "ipython3",
   "version": "3.12.4"
  }
 },
 "nbformat": 4,
 "nbformat_minor": 5
}
