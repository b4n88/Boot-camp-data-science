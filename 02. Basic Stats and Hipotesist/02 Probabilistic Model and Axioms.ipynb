{
 "cells": [
  {
   "cell_type": "markdown",
   "id": "2edb3ee0-b86f-4401-a30f-b8821f628e39",
   "metadata": {},
   "source": [
    "# **Pertemuan 3 - Probabilistic Model and Axioms**\n",
    "\n",
    "Introduction to Probability Course - Sekolah Data - Pacmann Academy"
   ]
  },
  {
   "cell_type": "markdown",
   "id": "a956175b-b29b-453f-b0a4-1cb1dcf3c261",
   "metadata": {},
   "source": [
    "**Outline**\n",
    "\n",
    "1. Review\n",
    "2. Case 1 - Simulasi Lempar Dadu\n",
    "3. Case 2 - Keuntungan Perusahaan\n",
    "4. Case 3 - Popularitas Menu Makanan"
   ]
  },
  {
   "cell_type": "markdown",
   "id": "a085adf4-583b-4a10-9c6d-015a5c81efd0",
   "metadata": {},
   "source": [
    "## **Review**\n",
    "---"
   ]
  },
  {
   "cell_type": "markdown",
   "id": "8fcd8de5-5fa8-4a2e-9294-be7bad6148dd",
   "metadata": {},
   "source": [
    "- **Probabilistic Model:** Model yang menjelaskan kondisi **uncertain** dengan **lebih sistematis**\n",
    "- **Random Experiment:** Proses melakukan observasi ke sesuatu yang masih **uncertain**\n",
    "\n",
    "    Contoh:\n",
    "    - Observasi pelemparan dadu 6 sisi \n",
    "    - Observasi terjadinya gol di pertandingan Sepak Bola\n",
    "    - Observasi banyaknya email masuk dalam sehari\n",
    "    - dll\n",
    "- **Sample Space:** Kumpulan possible outcomes yang mungkin bisa terjadi dalam suatu experiment. Umumnya di notasikan dalam bentuk $\\Omega$ (Omega)\n",
    "\n",
    "    Contoh:\n",
    "    - Kemungkinan gol yang bisa terjadi dalam satu pertandingan Sepak Bola\n",
    "    - Waktu menunggu kedatangan Bus di Halte\n",
    "    - dll\n",
    "- **Event:** Kejadian yang terjadi di dalam Sample Space\n",
    "\n",
    "    Contoh:\n",
    "    - Event terjadinya Gol yang dicetak oleh Striker\n",
    "    - Event terjadinya Gol yang dicetak oleh Midfielder\n",
    "    - dll\n",
    "    \n",
    "- Setelah memiliki **Sample Space** dan **Event**, maka selanjutntya adalah membuat Probability Model\n",
    "- Pendekatan Probability Model yang paling sederhana adalah dengan menghitung proporsi frekuensi kejadian Event di dalam Sample Space\n",
    "\n",
    "##### Probability Formula\n",
    "\n",
    "$$P(E)=\\frac{n(E)}{n(\\Omega)}$$"
   ]
  },
  {
   "cell_type": "markdown",
   "id": "a933fefe-fff8-4017-b03b-3e7926d4377e",
   "metadata": {
    "jp-MarkdownHeadingCollapsed": true
   },
   "source": [
    "## **Study Case #1: Pelemparan Dadu**\n",
    "---\n"
   ]
  },
  {
   "cell_type": "markdown",
   "id": "55964010-3f18-4a56-bb4f-bb37ce5baf66",
   "metadata": {},
   "source": [
    "<img src=\"https://cdn-icons-png.flaticon.com/512/7101/7101743.png\" alt=\"drawing\" width=\"200\"/>\n",
    "\n",
    "Kita melakukan pelemparan **satu** dadu 6 sisi, ditanya:\n",
    "- Berapa peluang munculnya angka $6$ saat melempar dadu?  \n",
    "\n",
    "Untuk menjawab pertanyaan tersebut, kita bisa menjawab dengan dua pendekatan, yaitu:\n",
    "- Melakukan **simulasi** melemparkan dadu secara berkali - kali\n",
    "- Menggunakan rumus Probability untuk mencari nilainya\n",
    "\n",
    "---"
   ]
  },
  {
   "cell_type": "markdown",
   "id": "a6dde7b9-3026-4a82-aff5-268f17eb8c14",
   "metadata": {},
   "source": [
    "### **Pendekatan 1: Simulasi**"
   ]
  },
  {
   "cell_type": "markdown",
   "id": "d42f63c2-c57a-4677-accd-8d903bcd4b8d",
   "metadata": {},
   "source": [
    "- Lalu, berapakah nilai peluang munculnya angka $6$ jika melakukan pelemparan sebanyak 5x?\n",
    "\n",
    "- Dengan bantuan Python, kita bisa melakukan simulasi pelemparan tersebut"
   ]
  },
  {
   "cell_type": "code",
   "execution_count": 2,
   "id": "9d9067b5-6ea4-49ea-a422-cc32fa5237be",
   "metadata": {},
   "outputs": [],
   "source": [
    "# IMPORT LIBRARY\n",
    "\n",
    "import numpy as np\n",
    "import pandas as pd\n",
    "import matplotlib.pyplot as plt"
   ]
  },
  {
   "cell_type": "markdown",
   "id": "b466e516-dfa2-461c-8ed6-fa026029f8cf",
   "metadata": {},
   "source": [
    "Sekarang kita coba lakukan simulasi pelemparan sebanyak 5x"
   ]
  },
  {
   "cell_type": "code",
   "execution_count": 3,
   "id": "5b060d47-a7a8-452b-9401-9e2a7b38ca58",
   "metadata": {},
   "outputs": [
    {
     "name": "stdout",
     "output_type": "stream",
     "text": [
      "[1 1 4 2 6]\n"
     ]
    }
   ],
   "source": [
    "hasil_lempar = np.random.randint(1, 7, 5)\n",
    "\n",
    "print(hasil_lempar)"
   ]
  },
  {
   "cell_type": "markdown",
   "id": "1d3576d1-b302-4a40-9c0c-111fbf86bb83",
   "metadata": {},
   "source": [
    "Untuk menghitung berapa kali kemunculan mata dadu dalam 5x pelemparan, kita bisa menggunakan `np.unique()`"
   ]
  },
  {
   "cell_type": "code",
   "execution_count": 4,
   "id": "10547936-fc4f-467a-9ad8-f874844a8ae0",
   "metadata": {},
   "outputs": [],
   "source": [
    "event_yang_muncul, frekuensi_muncul = np.unique(hasil_lempar, return_counts=True) \n",
    "# parameter return_counts berguna untuk menghitung berapa banyak unique value yang muncul"
   ]
  },
  {
   "cell_type": "code",
   "execution_count": 5,
   "id": "87598da2-4dc2-4177-b9d6-8551018fd8ff",
   "metadata": {},
   "outputs": [
    {
     "data": {
      "text/plain": [
       "(array([1, 2, 4, 6], dtype=int32), array([2, 1, 1, 1]))"
      ]
     },
     "execution_count": 5,
     "metadata": {},
     "output_type": "execute_result"
    }
   ],
   "source": [
    "event_yang_muncul, frekuensi_muncul"
   ]
  },
  {
   "cell_type": "markdown",
   "id": "d4b000a8-1c9b-49f3-952a-9d70cc7b1dc3",
   "metadata": {},
   "source": [
    "Sekarang, kita coba menghitung nilai Probability dari pelemparan dadu 5x"
   ]
  },
  {
   "cell_type": "code",
   "execution_count": 6,
   "id": "25ca0c4e-2203-4b36-8ef4-46637905bd27",
   "metadata": {},
   "outputs": [
    {
     "data": {
      "text/plain": [
       "array([0.4, 0.2, 0.2, 0.2])"
      ]
     },
     "execution_count": 6,
     "metadata": {},
     "output_type": "execute_result"
    }
   ],
   "source": [
    "proba_event = frekuensi_muncul / 5\n",
    "\n",
    "proba_event"
   ]
  },
  {
   "cell_type": "markdown",
   "id": "d347c01e-24dc-4cb2-a1e6-38d24dd640a4",
   "metadata": {},
   "source": [
    "Agar lebih mudah untuk melakukan interpretasi, kita gunakan visualisasi"
   ]
  },
  {
   "cell_type": "code",
   "execution_count": 7,
   "id": "2999cedb-75ee-4ed3-a059-f7a711650a51",
   "metadata": {},
   "outputs": [
    {
     "data": {
      "image/png": "[encoded data removed]",
      "text/plain": [
       "<Figure size 640x480 with 1 Axes>"
      ]
     },
     "metadata": {},
     "output_type": "display_data"
    }
   ],
   "source": [
    "plt.bar(event_yang_muncul, proba_event)\n",
    "plt.title(\"Simulasi\")\n",
    "plt.xticks(np.arange(1,7))\n",
    "plt.xlabel(\"Angka mata dadu\")\n",
    "plt.ylabel(\"Probability\")\n",
    "plt.show()"
   ]
  },
  {
   "cell_type": "markdown",
   "id": "138d0616-1b88-41ba-aa93-bc51ed46aee4",
   "metadata": {},
   "source": [
    "- Nah, kalau kita lihat nilai probability dari masing - masing mata dadu ada yang belum memiliki nilai peluang\n",
    "- Maka, kita coba lakukan pelemparan lebih banyak lagi (100x, 1.000x, 10.000x, ...)"
   ]
  },
  {
   "cell_type": "markdown",
   "id": "4b0acff2-cf86-4ffd-9101-17ef720c8e35",
   "metadata": {},
   "source": [
    "Agar code nya terlihat lebih rapi dan mudah dipanggil, maka akan \"dibungkus\" dengan `function`"
   ]
  },
  {
   "cell_type": "code",
   "execution_count": 8,
   "id": "10487ecb-da78-41e9-bc9c-b55d3145c477",
   "metadata": {},
   "outputs": [],
   "source": [
    "def probability_model_dadu(jumlah_pelemparan):\n",
    "    \"\"\"\n",
    "    Simulasi pelemparan dadu 6 sisi sebanyak n kali\n",
    "\n",
    "    Parameters\n",
    "    ----------\n",
    "        jumlah_pelemparan   : int \n",
    "                              jumlah pelemparan yang dilakukan\n",
    "    \"\"\"\n",
    "    \n",
    "    # melakukan pelemparan dadu sebanyak jumlah_pelemparan \n",
    "    hasil_pelemparan = np.random.randint(1, 7, jumlah_pelemparan)\n",
    "\n",
    "    # untuk mengetahui berapa kali kemunculan mata dadu dalam jumlah_pelemparan\n",
    "    event_yang_muncul, frekuensi_muncul = np.unique(hasil_pelemparan, return_counts=True)\n",
    "    \n",
    "    # menghitung probability\n",
    "    proba_event = frekuensi_muncul / jumlah_pelemparan\n",
    "\n",
    "    # melakukan visualisasi\n",
    "    plt.bar(event_yang_muncul, proba_event)\n",
    "    plt.title(f\"Simulasi Pelemparan Dadu sebanyak {jumlah_pelemparan} kali\")\n",
    "    plt.xticks(np.arange(1, 7))\n",
    "    plt.xlabel(\"Angka Mata Dadu\")\n",
    "    plt.ylabel(\"Probability\")\n",
    "    plt.show()"
   ]
  },
  {
   "cell_type": "markdown",
   "id": "3f90d2ae-3463-412b-913e-6a5661ac4568",
   "metadata": {},
   "source": [
    "Sekarang kita coba lakukan eksperimen pelemparan dadu sebanyak 1000x dengan menggunakan function `probability_model_dadu`"
   ]
  },
  {
   "cell_type": "code",
   "execution_count": 9,
   "id": "1bcabdd5-91ef-496b-9e33-109596140dbc",
   "metadata": {},
   "outputs": [
    {
     "data": {
      "image/png": "[encoded data removed]",
      "text/plain": [
       "<Figure size 640x480 with 1 Axes>"
      ]
     },
     "metadata": {},
     "output_type": "display_data"
    }
   ],
   "source": [
    "probability_model_dadu(jumlah_pelemparan=1000)"
   ]
  },
  {
   "cell_type": "markdown",
   "id": "1112ddff-da18-47f1-a1d9-4f645d2322df",
   "metadata": {},
   "source": [
    "- Kalau kita lihat, sekarang masing - masing mata dadu memiliki nilai Probability\n",
    "- Jika kita bandingkan dengan pelemparan sebanyak `5x`, nilai Probability dari masing - masing mata dadu juga ikut berubah"
   ]
  },
  {
   "cell_type": "markdown",
   "id": "237ff950-ccf2-42fa-b426-70d8e164c293",
   "metadata": {},
   "source": [
    "- Sekarang kita coba lakukan simulasi pelemparan dengan jumlah yang besar. Seperti melemparkan sebanyak `100.000` dan `1.000.000` kali"
   ]
  },
  {
   "cell_type": "markdown",
   "id": "2fffb794-2496-4c01-86c2-19a0176c7add",
   "metadata": {},
   "source": [
    "#### Pelemparan 100.000x"
   ]
  },
  {
   "cell_type": "code",
   "execution_count": 10,
   "id": "b54ec5df-4967-4eac-ac0c-0bd141e958ef",
   "metadata": {},
   "outputs": [
    {
     "data": {
      "image/png": "[encoded data removed]",
      "text/plain": [
       "<Figure size 640x480 with 1 Axes>"
      ]
     },
     "metadata": {},
     "output_type": "display_data"
    }
   ],
   "source": [
    "probability_model_dadu(jumlah_pelemparan=100000)"
   ]
  },
  {
   "cell_type": "markdown",
   "id": "dfafd099-e67c-4a9f-8822-e4b9fb77141d",
   "metadata": {},
   "source": [
    "#### Pelemparan 1.000.000x"
   ]
  },
  {
   "cell_type": "code",
   "execution_count": 11,
   "id": "875f89b8-8c31-4775-96ae-e05a73062013",
   "metadata": {},
   "outputs": [
    {
     "data": {
      "image/png": "[encoded data removed]",
      "text/plain": [
       "<Figure size 640x480 with 1 Axes>"
      ]
     },
     "metadata": {},
     "output_type": "display_data"
    }
   ],
   "source": [
    "probability_model_dadu(jumlah_pelemparan=1000000)"
   ]
  },
  {
   "cell_type": "markdown",
   "id": "51781582-9790-4083-9e35-e5f294dd5e14",
   "metadata": {},
   "source": [
    "- Dapat dilihat bahwa setelah melakukan simulasi pelemparan sebanyak `100.000` dan `1.000.000` nilai Probability nya mulai sama dan cenderung stabil\n",
    "- Nilai Probability dari masing - masing mata dadu juga memiliki nilai yang relatif sama, yaitu $0.16666666666666666$ \n",
    "- Dapat disimpulkan, semakin banyak jumlah simulasi atau eksperimen yang dilakukan maka nilai Probability nya akan mulai stabil\n",
    "\n",
    "---"
   ]
  },
  {
   "cell_type": "markdown",
   "id": "2cc72721-a66a-4b79-ae11-ff93ce8dc84e",
   "metadata": {},
   "source": [
    "### **Pendekatan 2: Probability Formula**\n",
    "---"
   ]
  },
  {
   "cell_type": "markdown",
   "id": "c2971256-94bc-4cbd-96aa-7eb71262df4a",
   "metadata": {},
   "source": [
    "- Selain menggunakan pendekeatan Simulasi, kita juga bisa langsung mencari nilai Probability nya menggunakan Probability Formula\n",
    "- Jika teman - teman lupa, langkah pertama kita harus menentukan Sample Space nya terlebih dahulu"
   ]
  },
  {
   "cell_type": "markdown",
   "id": "11a909da-df4c-41b2-a1ae-9986d1bdfcbc",
   "metadata": {},
   "source": [
    "- Karena disini kita melakukan eksperimen pelemparan **satu** dadu 6 sisi, maka Sample Space nya sebagai berikut\n",
    "\n",
    "$$\\Omega=\\{1,2,3,4,5,6\\} \\\\\n",
    "n(\\Omega)=6\n",
    "$$\n",
    "\n",
    "\n"
   ]
  },
  {
   "cell_type": "markdown",
   "id": "b3992471-299c-4435-b189-f21a6e89966b",
   "metadata": {},
   "source": [
    "- Lalu langkah selanjutnya untuk mencari nilai Probability kita membutuhkan **Event**\n",
    "- Karena yang diminta adalah mencari nilai Probability Angka 6 saat melempar dadu, maka Event nya sebagai berikut\n",
    "$$E=\\{6\\} \\\\ \n",
    "n(E)=1\n",
    "$$"
   ]
  },
  {
   "cell_type": "markdown",
   "id": "0c5d804b-483a-45b9-a7ae-a1562b98106d",
   "metadata": {},
   "source": [
    "- Setelah mendapatkan Sample Space dan Event, maka langkah selanjutnya adalah memasukkannya ke Probability Formula\n",
    "$$\n",
    "P(E)=\\frac{n(E)}{n(\\Omega)} \\\\ \n",
    "P(6)=\\frac{1}{6}= 0.16666666666666666\n",
    "$$"
   ]
  },
  {
   "cell_type": "code",
   "execution_count": 15,
   "id": "da5e8f9c-7fdb-4121-a91b-4d6e3ec36514",
   "metadata": {},
   "outputs": [
    {
     "data": {
      "text/plain": [
       "0.16666666666666666"
      ]
     },
     "execution_count": 15,
     "metadata": {},
     "output_type": "execute_result"
    }
   ],
   "source": [
    "1/6"
   ]
  },
  {
   "cell_type": "markdown",
   "id": "c772f82d-fd7f-4d7f-95bc-5e786fd682a1",
   "metadata": {},
   "source": [
    "---\n",
    "#### Kesimpulan\n",
    "- Untuk mencari nilai Probability dari pelemparan dadu, kita bisa menggunakan dua pendekatan yaitu dengan pendekatan Simulasi dan pendekatan menggunakan Formula\n",
    "- Dari kedua pendekatan tersebut didapatkan hasil yang sama yaitu sekitar $P(6)=0.16666666666666666$\n",
    "---"
   ]
  },
  {
   "cell_type": "markdown",
   "id": "22c9d972-b4e2-422b-9686-f4df271dd2d6",
   "metadata": {},
   "source": [
    "## **Study Case #2: Keuntungan Perusahaan**\n",
    "\n",
    "---"
   ]
  },
  {
   "cell_type": "markdown",
   "id": "bb387b89-3bf9-461b-8adf-f7b82419d6fb",
   "metadata": {},
   "source": [
    "- Dibawah ini adalah data mengenai keuntungan dari banyak perusahaan\n",
    "- Dimana, dari jumlah keuntungan yang didapatkan per tahun akan dikategorikan seperti tabel dibawah ini"
   ]
  },
  {
   "cell_type": "markdown",
   "id": "e91fdea7-f5a4-416a-a231-952a63fc1f82",
   "metadata": {},
   "source": [
    "| **Kategori** | **Keuntungan per Tahun** | **Jumlah Perusahaan** |\n",
    "|--------------|--------------------------|-----------------------|\n",
    "|       A      | < 10 Juta                |                    60 |\n",
    "|       B      | 10 Juta s.d 19 Juta      |                   100 |\n",
    "|       C      | 20 Juta s.d 29 Juta      |                   160 |\n",
    "|       D      | 30 Juta s.d 39 Juta      |                   140 |\n",
    "|       E      | > 40 Juta                |                    40 |\n",
    "| Total        |                          |                   500 |\n",
    "\n",
    "---"
   ]
  },
  {
   "cell_type": "markdown",
   "id": "543be816-2023-4525-9571-449b01cd79d3",
   "metadata": {},
   "source": [
    "#### **Pertanyaan 1:** Berapakah nilai Probability dari Perusahaan yang memiliki keuntungan dibawah 10 Juta?"
   ]
  },
  {
   "cell_type": "markdown",
   "id": "a1c79488-a48e-4a6a-964c-fab67fa2fbd8",
   "metadata": {},
   "source": [
    "##### Jawaban\n",
    "\n",
    "- Dapat dilihat bahwa Perusahaan yang memiliki keuntungan dibawah 10 Juta adalah `Kategori A`\n",
    "- Jika kita menjawab dengan Probability Formula, maka akan seperti berikut\n",
    "$$P(A)=\\frac{n(A)}{n(\\Omega)}$$\n",
    "\n",
    "- Sekarang, kita coba jawab dengan bantuan Python!"
   ]
  },
  {
   "cell_type": "code",
   "execution_count": 16,
   "id": "959af5d9-b641-4061-b846-3b4e440b7ba5",
   "metadata": {},
   "outputs": [],
   "source": [
    "# Data dari tabel\n",
    "n_A = 60\n",
    "n_sample_space = 500"
   ]
  },
  {
   "cell_type": "markdown",
   "id": "39b32d5b-0262-4e96-bc21-53c6f1378cea",
   "metadata": {},
   "source": [
    "- Setelah menentukan Sample Space dan Event, kita masukkan ke Probability Formula"
   ]
  },
  {
   "cell_type": "code",
   "execution_count": 17,
   "id": "de64e36d-125a-4750-9b3c-3c636395a526",
   "metadata": {},
   "outputs": [
    {
     "name": "stdout",
     "output_type": "stream",
     "text": [
      "Nilai Probability dari Perusahaan yang memiliki keuntungan dibawah 10 Juta adalah 0.12\n"
     ]
    }
   ],
   "source": [
    "p_A = n_A / n_sample_space\n",
    "\n",
    "print(f\"Nilai Probability dari Perusahaan yang memiliki keuntungan dibawah 10 Juta adalah {p_A}\")"
   ]
  },
  {
   "cell_type": "markdown",
   "id": "70cc8264-b682-49f4-9a71-95ee8918c4c0",
   "metadata": {},
   "source": [
    "---\n",
    "#### **Pertanyaan 2:** Berapakah nilai Probability dari Perusahaan yang memiliki keuntungan 10 Juta s.d 19 Juta **atau** diatas 40 Juta?"
   ]
  },
  {
   "cell_type": "markdown",
   "id": "dba51781-7d2c-45e7-8b28-d44e5bce1261",
   "metadata": {},
   "source": [
    "- Karena yang diminta adalah Perusahaan yang memiliki keuntungan 10 Juta s.d 19 Juta maka termasuk `Kategori B`\n",
    "- Perusahaan yang memiliki keuntungan diatas 40 Juta termasuk `Kategori E`\n",
    "- `Atau` biasanya dinotasikan sebagai $\\cup$, sehingga kita akan mencari $P(B \\cup E)$"
   ]
  },
  {
   "cell_type": "markdown",
   "id": "603f540a-fd03-4338-9509-02e70f5a92b8",
   "metadata": {},
   "source": [
    "> ***Hint:*** Untuk menjawab pertanyaan ini, teman - teman coba recall kembali mengenai **Axioms of Probability**"
   ]
  },
  {
   "cell_type": "code",
   "execution_count": null,
   "id": "e4f66be7-f8a7-4a62-9adf-c76c8dd366c0",
   "metadata": {},
   "outputs": [],
   "source": []
  }
 ],
 "metadata": {
  "kernelspec": {
   "display_name": "Python 3 (ipykernel)",
   "language": "python",
   "name": "python3"
  },
  "language_info": {
   "codemirror_mode": {
    "name": "ipython",
    "version": 3
   },
   "file_extension": ".py",
   "mimetype": "text/x-python",
   "name": "python",
   "nbconvert_exporter": "python",
   "pygments_lexer": "ipython3",
   "version": "3.13.5"
  }
 },
 "nbformat": 4,
 "nbformat_minor": 5
}
