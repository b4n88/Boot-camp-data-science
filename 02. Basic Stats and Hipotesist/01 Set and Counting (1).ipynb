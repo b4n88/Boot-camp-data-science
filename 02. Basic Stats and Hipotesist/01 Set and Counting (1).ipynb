{
 "cells": [
  {
   "cell_type": "markdown",
   "id": "1cba3abf-95df-4502-973e-cbf12541d648",
   "metadata": {},
   "source": [
    "# **Pertemuan 2 - Set and Counting**\n",
    "\n",
    "Introduction to Probability Course - Sekolah Data - Pacmann Academy"
   ]
  },
  {
   "cell_type": "markdown",
   "id": "488d3e53-57ef-4662-986a-dc7607deb1d6",
   "metadata": {},
   "source": [
    "---\n",
    "# **Kombinatorik**\n",
    "\n",
    "Dalam pembuatan sebuah set, terkadang diperlukan pengolahan terlebih dahulu. Misal, contoh sederhana:\n",
    "* Menghitung kombinasi cara pemasangan pakaian.\n",
    "* Kombinasi penarikan kartu.\n",
    "* Ada berapa kali cara 3 kejadian sukses (barang defect, customer churn) dalam 5 observasi?\n",
    "\n",
    "Dalam kombinatorik, digunakan 2 metode dasar untuk menjawab pertanyaan tersebut:\n",
    "* Permutasi\n",
    "* Kombinasi"
   ]
  },
  {
   "cell_type": "markdown",
   "id": "ef34218b-4e3e-4b9e-93e4-9be33787d649",
   "metadata": {},
   "source": [
    "---\n",
    "## **Permutasi**\n",
    "\n",
    "Permutasi adalah cara penyusunan dengan urutan pada suatu kumpulan objek.\n",
    "* Misalkan kita memiliki 4 objek huruf {A,H,L,O}\n",
    "* Jika 4 huruf ini disusun, maka dapat terbentuk:\n",
    "  * AHLO\n",
    "  * HALO\n",
    "  * OLAH\n",
    "  * HOLA\n",
    "  * dll\n",
    "  \n",
    "<center><img src=\"https://sekolahdata-assets.s3.ap-southeast-1.amazonaws.com/notebook-images/mds-probability/live_02_07.PNG\" alt=\"Drawing\" style=\"width: 400px;\"/></center>\n",
    "\n",
    "Sehingga, secara matematik dapat diekspresikan sebagai:\n",
    "<center>$n(n-1)(n-2)\\ldots 1 = n!$</center>\n",
    "\n",
    "Dalam Python:"
   ]
  },
  {
   "cell_type": "code",
   "execution_count": 4,
   "id": "c644f114-4ed2-423b-bc38-1479deef3477",
   "metadata": {},
   "outputs": [],
   "source": [
    "from itertools import permutations"
   ]
  },
  {
   "cell_type": "code",
   "execution_count": 6,
   "id": "1f5d36ec-63b7-46a3-b6bb-f9be861184c2",
   "metadata": {},
   "outputs": [],
   "source": [
    "huruf = {'A','H','L','O'}"
   ]
  },
  {
   "cell_type": "code",
   "execution_count": 10,
   "id": "4296f2a3-0089-4413-abe6-19fefb0e1acc",
   "metadata": {},
   "outputs": [
    {
     "name": "stdout",
     "output_type": "stream",
     "text": [
      "('O', 'H', 'L', 'A')\n",
      "('O', 'H', 'A', 'L')\n",
      "('O', 'L', 'H', 'A')\n",
      "('O', 'L', 'A', 'H')\n",
      "('O', 'A', 'H', 'L')\n",
      "('O', 'A', 'L', 'H')\n",
      "('H', 'O', 'L', 'A')\n",
      "('H', 'O', 'A', 'L')\n",
      "('H', 'L', 'O', 'A')\n",
      "('H', 'L', 'A', 'O')\n",
      "('H', 'A', 'O', 'L')\n",
      "('H', 'A', 'L', 'O')\n",
      "('L', 'O', 'H', 'A')\n",
      "('L', 'O', 'A', 'H')\n",
      "('L', 'H', 'O', 'A')\n",
      "('L', 'H', 'A', 'O')\n",
      "('L', 'A', 'O', 'H')\n",
      "('L', 'A', 'H', 'O')\n",
      "('A', 'O', 'H', 'L')\n",
      "('A', 'O', 'L', 'H')\n",
      "('A', 'H', 'O', 'L')\n",
      "('A', 'H', 'L', 'O')\n",
      "('A', 'L', 'O', 'H')\n",
      "('A', 'L', 'H', 'O')\n"
     ]
    }
   ],
   "source": [
    "perm = permutations(huruf)# Menampilkan hasil permutasi\n",
    "# code ini tidak perlu dihafal\n",
    "for i in list(perm):\n",
    "    print(i)"
   ]
  },
  {
   "cell_type": "markdown",
   "id": "30f40c28-11c8-48c8-b5f4-47aa569ac553",
   "metadata": {},
   "source": [
    "* Bagaimana jika hanya diambil elemen sejumlah $k$ ?\n",
    "k = 2\n",
    "perm_k = permutations(huruf, k)\n",
    "<center><img src=\"https://sekolahdata-assets.s3.ap-southeast-1.amazonaws.com/notebook-images/mds-probability/live_02_08.PNG\" alt=\"Drawing\" style=\"width: 200px;\"/></center>\n",
    "\n",
    "Secara matematis dapat ditulis:\n",
    "<center><img src=\"https://sekolahdata-assets.s3.ap-southeast-1.amazonaws.com/notebook-images/mds-probability/live_02_09.PNG\" alt=\"Drawing\" style=\"width: 100px;\"/></center>"
   ]
  },
  {
   "cell_type": "code",
   "execution_count": 13,
   "id": "50e03460-a257-4c65-8d24-1d9170343869",
   "metadata": {},
   "outputs": [],
   "source": [
    "k = 2\n",
    "perm_k = permutations(huruf, k)"
   ]
  },
  {
   "cell_type": "code",
   "execution_count": 15,
   "id": "3ebab78e-82c3-4a5f-a1fe-c72bf733233b",
   "metadata": {},
   "outputs": [
    {
     "name": "stdout",
     "output_type": "stream",
     "text": [
      "('O', 'H')\n",
      "('O', 'L')\n",
      "('O', 'A')\n",
      "('H', 'O')\n",
      "('H', 'L')\n",
      "('H', 'A')\n",
      "('L', 'O')\n",
      "('L', 'H')\n",
      "('L', 'A')\n",
      "('A', 'O')\n",
      "('A', 'H')\n",
      "('A', 'L')\n"
     ]
    }
   ],
   "source": [
    "# Menampilkan hasil permutasi\n",
    "# code ini tidak perlu dihafal\n",
    "for i in list(perm_k):\n",
    "    print(i)"
   ]
  },
  {
   "cell_type": "markdown",
   "id": "9136528a-1e48-40e0-afd8-aab4336d1a34",
   "metadata": {},
   "source": [
    "---\n",
    "## **Kombinasi**\n",
    "\n",
    "* Banyaknya subset yang dapat dibentuk dari suatu set awal:\n",
    "* Misal, anda memiliki 3 teman $\\{ \\text{Joko, Budi, Seno} \\}$\n",
    "* Namun, anda hanya bisa mengajak 2 dari mereka untuk naik mobil anda.\n",
    "* Kombinasi yang mungkin adalah:\n",
    "  * $\\{ \\text{Joko, Budi} \\}$\n",
    "  * $\\{ \\text{Joko, Seno} \\}$\n",
    "  * $\\{ \\text{Budi, Seno} \\}$"
   ]
  },
  {
   "cell_type": "markdown",
   "id": "ce31bcee-f60f-494b-8403-cf39df6396ec",
   "metadata": {},
   "source": [
    "---\n",
    "## **Kombinasi vs Permutasi**\n",
    "\n",
    "* Kombinasi tidak terpengaruh oleh urutan.\n",
    "* Dalam kombinasi: $\\{ \\text{Joko, Budi} \\} = \\{ \\text{Budi, Joko} \\} $\n",
    "* Dalam permutasi: $\\{ \\text{Joko, Budi} \\} \\neq \\{ \\text{Budi, Joko} \\} $"
   ]
  },
  {
   "cell_type": "code",
   "execution_count": 25,
   "id": "94688166-2b3a-4cba-8c9d-5e7f17b5f9f7",
   "metadata": {},
   "outputs": [],
   "source": [
    "from itertools import combinations"
   ]
  },
  {
   "cell_type": "code",
   "execution_count": 27,
   "id": "be9b7775-ecbd-46b2-9257-c4cff325d195",
   "metadata": {},
   "outputs": [],
   "source": [
    "teman = {'Joko', 'Budi', 'Seno'}"
   ]
  },
  {
   "cell_type": "code",
   "execution_count": 29,
   "id": "dcaf2cef-7033-47a3-b34b-7929d4589170",
   "metadata": {},
   "outputs": [],
   "source": [
    "comb = combinations(teman,2)"
   ]
  },
  {
   "cell_type": "code",
   "execution_count": 31,
   "id": "dcc972c9-4816-46d7-a0fd-f317d6b76f01",
   "metadata": {},
   "outputs": [
    {
     "name": "stdout",
     "output_type": "stream",
     "text": [
      "('Budi', 'Joko')\n",
      "('Budi', 'Seno')\n",
      "('Joko', 'Seno')\n"
     ]
    }
   ],
   "source": [
    "# Menampilkan hasil kombinasi\n",
    "# code ini tidak perlu dihafal\n",
    "for i in list(comb):\n",
    "    print(i)"
   ]
  },
  {
   "cell_type": "markdown",
   "id": "1ccc7cf5-923b-4224-9555-c651b3bb4929",
   "metadata": {},
   "source": [
    "Untuk menghitung jumlah kombinasi dapat digunakan ekspresi matematis:\n",
    "<center><img src=\"https://sekolahdata-assets.s3.ap-southeast-1.amazonaws.com/notebook-images/mds-probability/live_02_10.PNG\" alt=\"Drawing\" style=\"width: 300px;\"/></center>"
   ]
  },
  {
   "cell_type": "code",
   "execution_count": null,
   "id": "ac137f91-dbb1-4ea6-ac8d-0c50f23b3cd0",
   "metadata": {},
   "outputs": [],
   "source": []
  }
 ],
 "metadata": {
  "kernelspec": {
   "display_name": "Python [conda env:base] *",
   "language": "python",
   "name": "conda-base-py"
  },
  "language_info": {
   "codemirror_mode": {
    "name": "ipython",
    "version": 3
   },
   "file_extension": ".py",
   "mimetype": "text/x-python",
   "name": "python",
   "nbconvert_exporter": "python",
   "pygments_lexer": "ipython3",
   "version": "3.12.4"
  }
 },
 "nbformat": 4,
 "nbformat_minor": 5
}
